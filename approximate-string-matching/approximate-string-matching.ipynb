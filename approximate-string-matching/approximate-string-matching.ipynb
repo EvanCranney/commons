{
 "cells": [
  {
   "cell_type": "markdown",
   "metadata": {},
   "source": [
    "# Approximate String Matching\n",
    "* Local Edit Distance\n",
    "* Global Edit Distance\n",
    "* N-Gram Distance"
   ]
  },
  {
   "cell_type": "markdown",
   "metadata": {},
   "source": [
    "### Setup\n",
    "* `pip install editdistance`\n",
    "* `pip install ngram`"
   ]
  },
  {
   "cell_type": "code",
   "execution_count": 11,
   "metadata": {},
   "outputs": [],
   "source": [
    "import editdistance as ed\n",
    "import ngram"
   ]
  },
  {
   "cell_type": "code",
   "execution_count": 16,
   "metadata": {},
   "outputs": [],
   "source": [
    "def global_edit_distance(s1, s2):\n",
    "    return ed.eval(s1, s2)\n",
    "\n",
    "def ngram_distance(s1, s2, ngrams=2):\n",
    "    return ngram.NGram.compare(s1, s2, N=ngrams)"
   ]
  }
 ],
 "metadata": {
  "kernelspec": {
   "display_name": "Python 3",
   "language": "python",
   "name": "python3"
  },
  "language_info": {
   "codemirror_mode": {
    "name": "ipython",
    "version": 3
   },
   "file_extension": ".py",
   "mimetype": "text/x-python",
   "name": "python",
   "nbconvert_exporter": "python",
   "pygments_lexer": "ipython3",
   "version": "3.6.4"
  }
 },
 "nbformat": 4,
 "nbformat_minor": 2
}
